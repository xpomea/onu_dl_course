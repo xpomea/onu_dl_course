{
 "cells": [
  {
   "cell_type": "code",
   "execution_count": 1,
   "metadata": {},
   "outputs": [],
   "source": [
    "import numpy as np\n",
    "from collections import defaultdict\n",
    "from typing import List"
   ]
  },
  {
   "cell_type": "code",
   "execution_count": 2,
   "metadata": {},
   "outputs": [],
   "source": [
    "class Parameter:\n",
    "    def __init__(self, value: float, name: str) -> None:\n",
    "        self._value = value\n",
    "        self._name = name\n",
    "\n",
    "        self._grad = 0.0\n",
    "        self._backward = lambda: None\n",
    "        self._parameters = {id(self): self}\n",
    "        self._graph = defaultdict(list)\n",
    "\n",
    "    def __repr__(self) -> str:\n",
    "        return f\"Parameter {self._name} = {self._value}; dL/d[{self._name}] = {self._grad}\"\n",
    "        \n",
    "    def _topologicalSortUtil(self,v,visited,stack):\n",
    "        visited[v] = True\n",
    " \n",
    "        for i in self._graph[v]:\n",
    "            if visited[i] == False:\n",
    "                self._topologicalSortUtil(i,visited,stack)\n",
    " \n",
    "        stack.insert(0,v)\n",
    " \n",
    "\n",
    "    def _topologicalSort(self):\n",
    "        visited = {p: False for p in self._parameters}\n",
    "        stack = []\n",
    " \n",
    "        for i in self._parameters.keys():\n",
    "            if visited[i] == False:\n",
    "                self._topologicalSortUtil(i,visited,stack)\n",
    " \n",
    "        return stack\n",
    "    \n",
    "    def backward(self):\n",
    "        self._grad = 1\n",
    "        queue = self._topologicalSort()\n",
    "        for k in queue:\n",
    "            self._parameters[k]._backward()\n",
    "\n",
    "    def __add__(self, other: 'Parameter') -> 'Parameter':\n",
    "        result = Parameter(\n",
    "            self._value + other._value,\n",
    "            f'[{self._name} + {other._name}]'\n",
    "        )\n",
    "\n",
    "        def _backward():\n",
    "            self._grad += 1.0 * result._grad  #dL / dself\n",
    "            other._grad += 1.0 * result._grad # dL / dother\n",
    "\n",
    "        result._parameters.update(self._parameters)\n",
    "        result._parameters.update(other._parameters)\n",
    "        result._graph.update(self._graph)\n",
    "        result._graph.update(other._graph)\n",
    "        result._graph[id(result)].extend([id(self), id(other)])\n",
    "        result._backward = _backward\n",
    "\n",
    "        return result\n",
    "    \n",
    "    def __mul__(self, other: 'Parameter') -> 'Parameter':\n",
    "        result = Parameter(\n",
    "            self._value * other._value,\n",
    "            f'{self._name} * {other._name}'\n",
    "        )\n",
    "\n",
    "        def _backward():\n",
    "            self._grad += other._value * result._grad #dL / dself\n",
    "            other._grad += self._value * result._grad # dL / dother\n",
    "\n",
    "        result._parameters.update(self._parameters)\n",
    "        result._parameters.update(other._parameters)\n",
    "        result._graph.update(self._graph)\n",
    "        result._graph.update(other._graph)\n",
    "        result._graph[id(result)].extend([id(self), id(other)])\n",
    "        result._backward = _backward\n",
    "\n",
    "        return result\n",
    "\n",
    "    def sigmoid(self) -> 'Parameter':\n",
    "        # f(x) = 1 / (1 + exp(self._value))\n",
    "        # f'(x) = f(x) * (1 - f(x))\n",
    "\n",
    "        val = 1.0 / (1.0 + np.exp(-self._value))\n",
    "\n",
    "        result = Parameter(\n",
    "            val,\n",
    "            f\"σ({self._name})\"\n",
    "        )\n",
    "\n",
    "        def _backward():\n",
    "            self._grad += result._grad * val * (1 - val)\n",
    "\n",
    "        result._parameters.update(self._parameters)\n",
    "        result._graph.update(self._graph)\n",
    "        result._graph[id(result)].append(id(self))\n",
    "        result._backward = _backward\n",
    "\n",
    "        return result\n",
    "\n",
    "    def relu(self) -> 'Parameter':\n",
    "        result = Parameter(max(0, self._value), f'ReLU({self._name})')\n",
    "        \n",
    "        def _backward():\n",
    "            self._grad += result._grad * (self._value > 0)\n",
    "            \n",
    "        result._parameters.update(self._parameters)\n",
    "        result._graph.update(self._graph)\n",
    "        result._graph[id(result)].append(id(self))\n",
    "        self._backward = _backward\n",
    "        \n",
    "        return result\n",
    "\n",
    "    def softplus(self):\n",
    "        result = Parameter(np.log1p(np.exp(self._value), f'Softplus({self._name})'))\n",
    "        \n",
    "        def _backward():\n",
    "            self._grad += 1.0 / (1.0 + np.exp(-self._value))\n",
    "            \n",
    "        result._parameters.update(self._parameters)\n",
    "        result._graph.update(self._graph)\n",
    "        result._graph[id(result)].append(id(self))\n",
    "        self._backward = _backward\n",
    "        \n",
    "        return result\n",
    "    \n",
    "        \n",
    "def sgd(f, x: List[Parameter], params: List[Parameter]=None, lr=1e-2, steps=100, verbosity=3):\n",
    "    for s in range(steps):\n",
    "        result = f(*x)\n",
    "        result.backward()\n",
    "        if s % (steps // verbosity) == 0:\n",
    "            for p in params:\n",
    "                print(p)\n",
    "        for p in params:\n",
    "            p._value -= lr * p._grad\n",
    "            p._grad = 0"
   ]
  },
  {
   "cell_type": "code",
   "execution_count": 3,
   "metadata": {},
   "outputs": [
    {
     "name": "stdout",
     "output_type": "stream",
     "text": [
      "Parameter x = 6; dL/d[x] = 15.0\n",
      "Parameter x = -1.4905124216761014; dL/d[x] = 0.018975156647797142\n",
      "Parameter x = -1.4999879981143407; dL/d[x] = 2.4003771318614753e-05\n",
      "Parameter x = -1.4999999848174892; dL/d[x] = 3.036502160824739e-08\n"
     ]
    }
   ],
   "source": [
    "x = Parameter(6, 'x')\n",
    "sgd(lambda x: (x+Parameter(1, '1'))*(x+Parameter(2, '2')), [x], [x], lr=1e-3, steps=10000)"
   ]
  },
  {
   "cell_type": "code",
   "execution_count": 4,
   "metadata": {},
   "outputs": [
    {
     "name": "stdout",
     "output_type": "stream",
     "text": [
      "Parameter x = 6; dL/d[x] = 240.0\n",
      "Parameter x = 9.386130754670727e-07; dL/d[x] = 3.7544575878353234e-06\n",
      "Parameter x = 1.4820435041903189e-12; dL/d[x] = 5.928174016774455e-12\n",
      "Parameter x = 2.340108091993604e-18; dL/d[x] = 9.360432367974416e-18\n"
     ]
    }
   ],
   "source": [
    "x = Parameter(6, 'x')\n",
    "sgd(lambda x: (x+x)*(x+Parameter(1, '1'))*x, [x], [x], lr=1e-3, steps=10000)"
   ]
  },
  {
   "cell_type": "code",
   "execution_count": 5,
   "metadata": {},
   "outputs": [
    {
     "name": "stdout",
     "output_type": "stream",
     "text": [
      "Parameter x = 3; dL/d[x] = 4.0\n",
      "Parameter x = 1.0025300208863732; dL/d[x] = 0.0050600417727464375\n",
      "Parameter x = 1.0000032005028432; dL/d[x] = 6.4010056863850195e-06\n",
      "Parameter x = 1.0000000040486707; dL/d[x] = 8.097341464008423e-09\n"
     ]
    }
   ],
   "source": [
    "x = Parameter(3, 'x')\n",
    "sgd(lambda x: x*x + Parameter(6, '6') + Parameter(-1, '-1') * (x.relu() + x), [x], [x], lr=1e-3, steps=10000)"
   ]
  },
  {
   "cell_type": "code",
   "execution_count": 6,
   "metadata": {},
   "outputs": [
    {
     "name": "stdout",
     "output_type": "stream",
     "text": [
      "Parameter x = -3; dL/d[x] = -7.0\n",
      "Parameter x = 0.9911447655250428; dL/d[x] = -0.01771046894991435\n",
      "Parameter x = 0.9999887980359132; dL/d[x] = -2.2403928173542198e-05\n",
      "Parameter x = 0.9999999858293982; dL/d[x] = -2.834120360617476e-08\n"
     ]
    }
   ],
   "source": [
    "x = Parameter(-3, 'x')\n",
    "sgd(lambda x: x*x + Parameter(6, '6') + Parameter(-1, '-1') * (x.relu() + x), [x], [x], lr=1e-3, steps=10000)"
   ]
  },
  {
   "cell_type": "code",
   "execution_count": null,
   "metadata": {},
   "outputs": [],
   "source": []
  }
 ],
 "metadata": {
  "kernelspec": {
   "display_name": "Python 3",
   "language": "python",
   "name": "python3"
  },
  "language_info": {
   "codemirror_mode": {
    "name": "ipython",
    "version": 3
   },
   "file_extension": ".py",
   "mimetype": "text/x-python",
   "name": "python",
   "nbconvert_exporter": "python",
   "pygments_lexer": "ipython3",
   "version": "3.12.2"
  }
 },
 "nbformat": 4,
 "nbformat_minor": 2
}
